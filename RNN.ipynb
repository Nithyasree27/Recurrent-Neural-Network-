{
 "cells": [
  {
   "cell_type": "markdown",
   "id": "28e41d18",
   "metadata": {},
   "source": [
    "<h5>Recurrent Neural Network</h5>"
   ]
  },
  {
   "cell_type": "code",
   "execution_count": 1,
   "id": "3c674c87",
   "metadata": {},
   "outputs": [],
   "source": [
    "from tensorflow.keras.datasets import imdb"
   ]
  },
  {
   "cell_type": "code",
   "execution_count": 2,
   "id": "416985ea",
   "metadata": {},
   "outputs": [
    {
     "name": "stdout",
     "output_type": "stream",
     "text": [
      "Downloading data from https://storage.googleapis.com/tensorflow/tf-keras-datasets/imdb.npz\n",
      "17465344/17464789 [==============================] - 18s 1us/step\n",
      "17473536/17464789 [==============================] - 18s 1us/step\n"
     ]
    }
   ],
   "source": [
    "(train_words,train_labels),(test_words,test_labels)=imdb.load_data(num_words=10000)"
   ]
  },
  {
   "cell_type": "code",
   "execution_count": 6,
   "id": "78652a3d",
   "metadata": {},
   "outputs": [
    {
     "name": "stdout",
     "output_type": "stream",
     "text": [
      "Downloading data from https://storage.googleapis.com/tensorflow/tf-keras-datasets/imdb_word_index.json\n",
      "1646592/1641221 [==============================] - 1s 0us/step\n",
      "1654784/1641221 [==============================] - 1s 0us/step\n"
     ]
    }
   ],
   "source": [
    "word_index=imdb.get_word_index()"
   ]
  },
  {
   "cell_type": "code",
   "execution_count": 37,
   "id": "09cb944d",
   "metadata": {},
   "outputs": [],
   "source": [
    "w_index={values:keys for keys,values in word_index.items()}\n",
    "#changing keys as values and values as keys"
   ]
  },
  {
   "cell_type": "code",
   "execution_count": 53,
   "id": "c20ab410",
   "metadata": {},
   "outputs": [
    {
     "data": {
      "text/plain": [
       "\"the as you with out themselves powerful lets loves their becomes reaching had journalist of lot from anyone to have after out atmosphere never more room and it so heart shows to years of every never going and help moments or of every chest visual movie except her was several of enough more with is now current film as you of mine potentially unfortunately of you than him that with out themselves her get for was camp of you movie sometimes movie that with scary but and to story wonderful that in seeing in character to of 70s musicians with heart had shadows they of here that with her serious to have does when from why what have critics they is you that isn't one will very to as itself with other and in of seen over landed for anyone of and br show's to whether from than out themselves history he name half some br of and odd was two most of mean for 1 any an boat she he should is thought frog but of script you not while history he heart to real at barrel but when from one bit then have two of script their with her nobody most that with wasn't to with armed acting watch an for with heartfelt film want an\""
      ]
     },
     "execution_count": 53,
     "metadata": {},
     "output_type": "execute_result"
    }
   ],
   "source": [
    "\" \".join(w_index[i] for i in train_words[0])"
   ]
  },
  {
   "cell_type": "code",
   "execution_count": 55,
   "id": "98e218dc",
   "metadata": {},
   "outputs": [
    {
     "data": {
      "text/plain": [
       "25000"
      ]
     },
     "execution_count": 55,
     "metadata": {},
     "output_type": "execute_result"
    }
   ],
   "source": [
    "len(train_words)"
   ]
  },
  {
   "cell_type": "code",
   "execution_count": 57,
   "id": "0dc11a9c",
   "metadata": {},
   "outputs": [],
   "source": [
    "from tensorflow.keras.preprocessing import sequence #for reducing the length"
   ]
  },
  {
   "cell_type": "code",
   "execution_count": 62,
   "id": "703e2614",
   "metadata": {},
   "outputs": [],
   "source": [
    "train=sequence.pad_sequences(train_words,maxlen=500)\n",
    "test=sequence.pad_sequences(test_words,maxlen=500)\n",
    "#truncating-making the words at same feature"
   ]
  },
  {
   "cell_type": "code",
   "execution_count": 64,
   "id": "da8bdc86",
   "metadata": {},
   "outputs": [
    {
     "data": {
      "text/plain": [
       "(25000, 500)"
      ]
     },
     "execution_count": 64,
     "metadata": {},
     "output_type": "execute_result"
    }
   ],
   "source": [
    "test.shape"
   ]
  },
  {
   "cell_type": "code",
   "execution_count": 80,
   "id": "2b90b4ee",
   "metadata": {},
   "outputs": [],
   "source": [
    "from keras.models import Sequential\n",
    "from tensorflow.keras import layers\n",
    "from keras.layers import Embedding, SimpleRNN"
   ]
  },
  {
   "cell_type": "code",
   "execution_count": 95,
   "id": "caf696ac",
   "metadata": {},
   "outputs": [],
   "source": [
    "model=Sequential()\n",
    "model.add(Embedding(10000,32))#embedding layer\n",
    "model.add(SimpleRNN(units=32))\n",
    "model.add(layers.Dense(1,activation='sigmoid'))\n",
    "model.compile(loss='binary_crossentropy',optimizer='adam',metrics=['accuracy'])"
   ]
  },
  {
   "cell_type": "code",
   "execution_count": 97,
   "id": "935e799a",
   "metadata": {},
   "outputs": [
    {
     "name": "stdout",
     "output_type": "stream",
     "text": [
      "Epoch 1/5\n",
      "782/782 [==============================] - 103s 131ms/step - loss: 0.4854 - accuracy: 0.7790\n",
      "Epoch 2/5\n",
      "782/782 [==============================] - 101s 129ms/step - loss: 0.3814 - accuracy: 0.8315\n",
      "Epoch 3/5\n",
      "782/782 [==============================] - 95s 122ms/step - loss: 0.4654 - accuracy: 0.7778\n",
      "Epoch 4/5\n",
      "782/782 [==============================] - 99s 126ms/step - loss: 0.3560 - accuracy: 0.8478\n",
      "Epoch 5/5\n",
      "782/782 [==============================] - 99s 127ms/step - loss: 0.3793 - accuracy: 0.8306\n"
     ]
    },
    {
     "data": {
      "text/plain": [
       "<keras.callbacks.History at 0x2863514fe50>"
      ]
     },
     "execution_count": 97,
     "metadata": {},
     "output_type": "execute_result"
    }
   ],
   "source": [
    "model.fit(train,train_labels,epochs=5)"
   ]
  },
  {
   "cell_type": "code",
   "execution_count": 98,
   "id": "e9e55954",
   "metadata": {},
   "outputs": [
    {
     "name": "stdout",
     "output_type": "stream",
     "text": [
      "782/782 [==============================] - 26s 33ms/step - loss: 0.4589 - accuracy: 0.8144\n"
     ]
    },
    {
     "data": {
      "text/plain": [
       "[0.45894694328308105, 0.8143600225448608]"
      ]
     },
     "execution_count": 98,
     "metadata": {},
     "output_type": "execute_result"
    }
   ],
   "source": [
    "model.evaluate(test,test_labels)"
   ]
  },
  {
   "cell_type": "code",
   "execution_count": null,
   "id": "2ae4d31d",
   "metadata": {},
   "outputs": [],
   "source": []
  }
 ],
 "metadata": {
  "kernelspec": {
   "display_name": "Python 3 (ipykernel)",
   "language": "python",
   "name": "python3"
  },
  "language_info": {
   "codemirror_mode": {
    "name": "ipython",
    "version": 3
   },
   "file_extension": ".py",
   "mimetype": "text/x-python",
   "name": "python",
   "nbconvert_exporter": "python",
   "pygments_lexer": "ipython3",
   "version": "3.9.7"
  }
 },
 "nbformat": 4,
 "nbformat_minor": 5
}
